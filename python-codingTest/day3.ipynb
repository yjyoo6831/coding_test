{
 "cells": [
  {
   "cell_type": "code",
   "execution_count": null,
   "metadata": {},
   "outputs": [],
   "source": [
    "# 파이썬 함수\n",
    "# def 함수명(매개변수):\n",
    "\n",
    "\n",
    "def function(par1, par2):\n",
    "    total = par1 + par2\n",
    "\n",
    "    return total\n",
    "\n",
    "\n",
    "total = function(1, 2)\n",
    "\n",
    "# print(total) # 3\n",
    "\n",
    "# print()는 반환값이 없는 함수\n",
    "\n",
    "# 중첩 반복문\n",
    "# 이차원 리스트의 순회를 위한 이중 반복문\n",
    "\n",
    "# 한 좌표에서 델타 탐색\n",
    "matrix = [\n",
    "    [1, 2, 3],\n",
    "    [4, 5, 6],\n",
    "    [7, 8, 9],\n",
    "]\n",
    "\n",
    "number = matrix[0][1]\n",
    "\n",
    "# 세로길이 (n,N) 와 가로 길이(m,M)\n",
    "n = len(matrix)\n",
    "m = len(matrix[0])\n",
    "\n",
    "# print(n,m)  # 3 3\n",
    "\n",
    "# 인덱스를 통한 순회\n",
    "for y in range(n):\n",
    "    # print(matrix[y])\n",
    "    for x in range(m):\n",
    "        print(matrix[y][x])\n",
    "\n",
    "\n",
    "y = 1\n",
    "x = 1\n",
    "dy = [-1, 1, 0, 0]  # y에 대한 상하좌우 변화값\n",
    "dx = [0, 0, -1, 1]  # x에 대한 상하좌우 변화값\n",
    "\n",
    "for d in range(4):\n",
    "    next_y = y + dy[d]\n",
    "    nx = x + dx[d]\n",
    "    # 범위 조건문\n",
    "    if -1 < next_y < n and -1 < nx < m:\n",
    "        print(next_y, nx, matrix[next_y][nx])\n",
    "\n",
    "# 이차원 리스트의 모든 좌표에서의 델타 탐색\n",
    "# 이차원 리스트의 이중 반복문을 통한 인덱스 순회\n",
    "\n",
    "# 2. 델타 탐색\n",
    "matrix1 = [\n",
    "    [1, 2, 3],\n",
    "    [4, 5, 6],\n",
    "    [7, 8, 9],\n",
    "]\n",
    "\n",
    "number = matrix1[0][1]\n",
    "\n",
    "# 세로길이 (n,N) 와 가로 길이(m,M)\n",
    "n = len(matrix1)\n",
    "m = len(matrix1[0])\n",
    "\n",
    "# 모든 좌표에서의 델타 탐색 코드 작성\n",
    "for y in range(n):\n",
    "    for x in range(m):\n",
    "        # 델타 탐색의 기준 좌표 y, x\n",
    "        \n",
    "        # y,x에 대한 변화값\n",
    "        dy = [-1, 1, 0, 0]\n",
    "        dx = [0, 0, -1, -1]\n",
    "\n",
    "        # 델타 탐색(4방향 탐색)\n",
    "        for d in range(4):\n",
    "            next_y = y + dy[d]\n",
    "            next_x = x + dx[d]\n",
    "            \n",
    "            # 범위에 대한 조건문\n",
    "            if -1 < next_y < n and -1 < next_x < m:\n",
    "                print(y,x, matrix[next_y][next_x])                 "
   ]
  },
  {
   "cell_type": "code",
   "execution_count": 5,
   "metadata": {},
   "outputs": [
    {
     "name": "stdout",
     "output_type": "stream",
     "text": [
      "[3, 44]\n",
      "[3, 44]\n"
     ]
    }
   ],
   "source": [
    "# 파이썬 입력 경우의 수 \n",
    "#1. 정수 1개를 입력하는 경우 \n",
    "# number = int(input())\n",
    "#2. 정수 2개를 입력하는 경우 \n",
    "input_list = input().split(\" \")\n",
    "# 문자열 원소들 -> 정수형 변환\n",
    "# 각 원소에 int() 함수를 적용해야할 필요가 있다.\n",
    "# 1. 반복문 활용한 방법\n",
    "new_list =[]\n",
    "for n in input_list:\n",
    "        new_list.append(int(n))\n",
    "print(new_list)\n",
    "\n",
    "#2. map() 함수 활용한 방법\n",
    "#2(함수, 컨테이너 자료형) : 컨테이너의 각 원소에 함수를 적용한 결과를 반환\n",
    "new_list = list(map(int, input_list))\n",
    "print(new_list)\n",
    " "
   ]
  },
  {
   "cell_type": "code",
   "execution_count": 18,
   "metadata": {},
   "outputs": [
    {
     "ename": "ValueError",
     "evalue": "invalid literal for int() with base 10: ''",
     "output_type": "error",
     "traceback": [
      "\u001b[1;31m---------------------------------------------------------------------------\u001b[0m",
      "\u001b[1;31mValueError\u001b[0m                                Traceback (most recent call last)",
      "Cell \u001b[1;32mIn[18], line 15\u001b[0m\n\u001b[0;32m     13\u001b[0m \u001b[38;5;28;01mfor\u001b[39;00m _ \u001b[38;5;129;01min\u001b[39;00m \u001b[38;5;28mrange\u001b[39m(N):\n\u001b[0;32m     14\u001b[0m     input_list \u001b[38;5;241m=\u001b[39m \u001b[38;5;28minput\u001b[39m()\u001b[38;5;241m.\u001b[39msplit(\u001b[38;5;124m\"\u001b[39m\u001b[38;5;124m \u001b[39m\u001b[38;5;124m\"\u001b[39m) \u001b[38;5;66;03m# 예시  [\"1\",\"1\",\"1\"]\u001b[39;00m\n\u001b[1;32m---> 15\u001b[0m     number_list \u001b[38;5;241m=\u001b[39m \u001b[38;5;28;43mlist\u001b[39;49m\u001b[43m(\u001b[49m\u001b[38;5;28;43mmap\u001b[39;49m\u001b[43m(\u001b[49m\u001b[38;5;28;43mint\u001b[39;49m\u001b[43m,\u001b[49m\u001b[43minput_list\u001b[49m\u001b[43m)\u001b[49m\u001b[43m)\u001b[49m \u001b[38;5;66;03m# 결과 예시 [1, 1, 1]\u001b[39;00m\n\u001b[0;32m     16\u001b[0m     matrixA\u001b[38;5;241m.\u001b[39mappend(number_list)\n\u001b[0;32m     18\u001b[0m \u001b[38;5;28mprint\u001b[39m(matrixA)\n",
      "\u001b[1;31mValueError\u001b[0m: invalid literal for int() with base 10: ''"
     ]
    }
   ],
   "source": [
    "# 파일 읽기를 통한 예제 입력\n",
    "import sys\n",
    "sys.stdin = open('./input.txt','r')\n",
    "\n",
    "# 언패킹: 리스트의 개수만큼 변수가 존재하면 원소 위치에 맞는 변수에 값이 저장\n",
    "N, M = list(map(int, input().split(\" \")))\n",
    "# print(N, M)\n",
    "\n",
    "# 3. 이차원 리스트를 입력받는 경우\n",
    "# 세로 길이(N)가 꼭 필요하다.\n",
    "# 1차원 리스트를 저장할 빈 리스트 변수\n",
    "matrixA = []\n",
    "for _ in range(N):\n",
    "    input_list = input().split(\" \") # 예시  [\"1\",\"1\",\"1\"]\n",
    "    number_list = list(map(int,input_list)) # 결과 예시 [1, 1, 1]\n",
    "    matrixA.append(number_list)\n",
    "    \n",
    "print(matrixA)"
   ]
  },
  {
   "cell_type": "code",
   "execution_count": null,
   "metadata": {},
   "outputs": [],
   "source": [
    "#10 5\n",
    "# 두개의 정수를 입력 \n",
    "N, X = list(map(int, input().split(\" \")))\n",
    "print(N, X)\n",
    "\n",
    "number_list = input().split(\" \")\n",
    "\n",
    "# 공백 없이 2개이상의 숫자를 입력하는 경우 \n",
    "\n"
   ]
  }
 ],
 "metadata": {
  "kernelspec": {
   "display_name": "Python 3",
   "language": "python",
   "name": "python3"
  },
  "language_info": {
   "codemirror_mode": {
    "name": "ipython",
    "version": 3
   },
   "file_extension": ".py",
   "mimetype": "text/x-python",
   "name": "python",
   "nbconvert_exporter": "python",
   "pygments_lexer": "ipython3",
   "version": "3.12.4"
  }
 },
 "nbformat": 4,
 "nbformat_minor": 2
}
